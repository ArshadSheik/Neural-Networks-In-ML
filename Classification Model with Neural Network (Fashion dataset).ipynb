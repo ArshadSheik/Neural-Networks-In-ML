{
 "cells": [
  {
   "cell_type": "code",
   "execution_count": null,
   "id": "9588c9af",
   "metadata": {},
   "outputs": [],
   "source": [
    "conda activate CNN # optional"
   ]
  },
  {
   "cell_type": "markdown",
   "id": "b48a9753",
   "metadata": {},
   "source": [
    "# Neural Networks"
   ]
  },
  {
   "cell_type": "markdown",
   "id": "0a21e839",
   "metadata": {},
   "source": [
    "The neural network is the most important concept in deep learning, which is a subset of machine learning. Neural networks were inspired by biological neurons found in the brain of a human. You can think of a neural network as a machine learning algorithm that works the same way as a human brain. \n",
    "\n",
    "The reason we use neural networks when we already have so many machine learning algorithms is that a neural network needs a huge amount of data. As every business has now understood the importance of data, we have enough data to train a neural network. A neural network can easily outperform any machine learning algorithm while working on a very large data set."
   ]
  },
  {
   "cell_type": "markdown",
   "id": "e196f17d",
   "metadata": {},
   "source": [
    "## Neural Networks using Python"
   ]
  },
  {
   "cell_type": "markdown",
   "id": "ff0b5d8f",
   "metadata": {},
   "source": [
    "When training neural networks on a huge dataset, you should have a GPU compatible system, otherwise, it will take hours to run your code. If you don’t have a GPU compatible machine, you can always use Google Colab\n",
    "\n",
    "Let's train a classification model with neural networks using python."
   ]
  },
  {
   "cell_type": "markdown",
   "id": "345a6264",
   "metadata": {},
   "source": [
    "## Import libraries"
   ]
  },
  {
   "cell_type": "code",
   "execution_count": 1,
   "id": "aa04cdb3",
   "metadata": {},
   "outputs": [],
   "source": [
    "import tensorflow as tf\n",
    "from tensorflow import keras"
   ]
  },
  {
   "cell_type": "markdown",
   "id": "8f6891db",
   "metadata": {},
   "source": [
    "## Load Dataset"
   ]
  },
  {
   "cell_type": "code",
   "execution_count": 2,
   "id": "1c94cf86",
   "metadata": {},
   "outputs": [],
   "source": [
    "fashion_mnist = keras.datasets.fashion_mnist"
   ]
  },
  {
   "cell_type": "code",
   "execution_count": 3,
   "id": "0447d83f",
   "metadata": {},
   "outputs": [],
   "source": [
    "(x_train, y_train), (x_test, y_test) = fashion_mnist.load_data()"
   ]
  },
  {
   "cell_type": "code",
   "execution_count": 4,
   "id": "3c5903ad",
   "metadata": {},
   "outputs": [],
   "source": [
    "x_valid, x_train = x_train[:5000]/255.0, x_train[5000:]/255.0\n",
    "y_valid, y_train = y_train[:5000], y_train[5000:]"
   ]
  },
  {
   "cell_type": "markdown",
   "id": "476a1041",
   "metadata": {},
   "source": [
    "The Fashion MNIST dataset is just like the MNIST digits dataset but to understand what we are dealing with we need to create a Python list of names of the classes in the dataset"
   ]
  },
  {
   "cell_type": "code",
   "execution_count": 5,
   "id": "be82dc44",
   "metadata": {},
   "outputs": [],
   "source": [
    "classes = [\"T-shirt/top\", \"Trouser\", \"Pullover\", \n",
    "           \"Dress\", \"Coat\", \"Sandal\", \"Shirt\", \n",
    "           \"Sneaker\", \"Bag\", \"Ankle boot\"]"
   ]
  },
  {
   "cell_type": "markdown",
   "id": "244eb3e3",
   "metadata": {},
   "source": [
    "## Creating a Neural Network model"
   ]
  },
  {
   "cell_type": "code",
   "execution_count": 6,
   "id": "fd5be263",
   "metadata": {},
   "outputs": [],
   "source": [
    "model = keras.models.Sequential([\n",
    "    keras.layers.Flatten(input_shape=[28, 28]),\n",
    "    keras.layers.Dense(300, activation=\"relu\"),\n",
    "    keras.layers.Dense(100, activation=\"relu\"),\n",
    "    keras.layers.Dense(10, activation=\"softmax\")\n",
    "])"
   ]
  },
  {
   "cell_type": "markdown",
   "id": "3a9f79c0",
   "metadata": {},
   "source": [
    "## Model summary"
   ]
  },
  {
   "cell_type": "code",
   "execution_count": 7,
   "id": "973cd906",
   "metadata": {},
   "outputs": [
    {
     "name": "stdout",
     "output_type": "stream",
     "text": [
      "Model: \"sequential\"\n",
      "_________________________________________________________________\n",
      " Layer (type)                Output Shape              Param #   \n",
      "=================================================================\n",
      " flatten (Flatten)           (None, 784)               0         \n",
      "                                                                 \n",
      " dense (Dense)               (None, 300)               235500    \n",
      "                                                                 \n",
      " dense_1 (Dense)             (None, 100)               30100     \n",
      "                                                                 \n",
      " dense_2 (Dense)             (None, 10)                1010      \n",
      "                                                                 \n",
      "=================================================================\n",
      "Total params: 266,610\n",
      "Trainable params: 266,610\n",
      "Non-trainable params: 0\n",
      "_________________________________________________________________\n"
     ]
    }
   ],
   "source": [
    "model.summary()"
   ]
  },
  {
   "cell_type": "markdown",
   "id": "eeb5acb3",
   "metadata": {},
   "source": [
    "## Compile the Model\n",
    "\n",
    "Compiling a model is required to finalise the model and make it completely ready to use. For compilation, we need to specify an optimizer and a loss function. We can compile a model by using compile attribute."
   ]
  },
  {
   "cell_type": "code",
   "execution_count": 8,
   "id": "b69bc7cc",
   "metadata": {},
   "outputs": [],
   "source": [
    "model.compile(loss=\"sparse_categorical_crossentropy\",\n",
    "              optimizer=\"sgd\", metrics=[\"accuracy\"])"
   ]
  },
  {
   "cell_type": "markdown",
   "id": "5e2d496c",
   "metadata": {},
   "source": [
    "## Train Model"
   ]
  },
  {
   "cell_type": "code",
   "execution_count": 9,
   "id": "576e07f9",
   "metadata": {},
   "outputs": [
    {
     "name": "stdout",
     "output_type": "stream",
     "text": [
      "Epoch 1/30\n",
      "1719/1719 [==============================] - 5s 3ms/step - loss: 0.7131 - accuracy: 0.7682 - val_loss: 0.5116 - val_accuracy: 0.8280\n",
      "Epoch 2/30\n",
      "1719/1719 [==============================] - 5s 3ms/step - loss: 0.4908 - accuracy: 0.8287 - val_loss: 0.4621 - val_accuracy: 0.8460\n",
      "Epoch 3/30\n",
      "1719/1719 [==============================] - 5s 3ms/step - loss: 0.4488 - accuracy: 0.8426 - val_loss: 0.4340 - val_accuracy: 0.8504\n",
      "Epoch 4/30\n",
      "1719/1719 [==============================] - 5s 3ms/step - loss: 0.4209 - accuracy: 0.8521 - val_loss: 0.3987 - val_accuracy: 0.8600\n",
      "Epoch 5/30\n",
      "1719/1719 [==============================] - 5s 3ms/step - loss: 0.4021 - accuracy: 0.8591 - val_loss: 0.4127 - val_accuracy: 0.8530\n",
      "Epoch 6/30\n",
      "1719/1719 [==============================] - 5s 3ms/step - loss: 0.3860 - accuracy: 0.8637 - val_loss: 0.3795 - val_accuracy: 0.8718\n",
      "Epoch 7/30\n",
      "1719/1719 [==============================] - 5s 3ms/step - loss: 0.3724 - accuracy: 0.8692 - val_loss: 0.3739 - val_accuracy: 0.8690\n",
      "Epoch 8/30\n",
      "1719/1719 [==============================] - 5s 3ms/step - loss: 0.3607 - accuracy: 0.8722 - val_loss: 0.3617 - val_accuracy: 0.8702\n",
      "Epoch 9/30\n",
      "1719/1719 [==============================] - 5s 3ms/step - loss: 0.3511 - accuracy: 0.8757 - val_loss: 0.3713 - val_accuracy: 0.8666\n",
      "Epoch 10/30\n",
      "1719/1719 [==============================] - 5s 3ms/step - loss: 0.3404 - accuracy: 0.8789 - val_loss: 0.3657 - val_accuracy: 0.8708\n",
      "Epoch 11/30\n",
      "1719/1719 [==============================] - 5s 3ms/step - loss: 0.3310 - accuracy: 0.8821 - val_loss: 0.3443 - val_accuracy: 0.8728\n",
      "Epoch 12/30\n",
      "1719/1719 [==============================] - 5s 3ms/step - loss: 0.3229 - accuracy: 0.8851 - val_loss: 0.3416 - val_accuracy: 0.8766\n",
      "Epoch 13/30\n",
      "1719/1719 [==============================] - 5s 3ms/step - loss: 0.3159 - accuracy: 0.8859 - val_loss: 0.3395 - val_accuracy: 0.8814\n",
      "Epoch 14/30\n",
      "1719/1719 [==============================] - 5s 3ms/step - loss: 0.3079 - accuracy: 0.8888 - val_loss: 0.3349 - val_accuracy: 0.8798\n",
      "Epoch 15/30\n",
      "1719/1719 [==============================] - 5s 3ms/step - loss: 0.3015 - accuracy: 0.8912 - val_loss: 0.3525 - val_accuracy: 0.8736\n",
      "Epoch 16/30\n",
      "1719/1719 [==============================] - 5s 3ms/step - loss: 0.2965 - accuracy: 0.8935 - val_loss: 0.3414 - val_accuracy: 0.8766\n",
      "Epoch 17/30\n",
      "1719/1719 [==============================] - 5s 3ms/step - loss: 0.2896 - accuracy: 0.8950 - val_loss: 0.3242 - val_accuracy: 0.8860\n",
      "Epoch 18/30\n",
      "1719/1719 [==============================] - 5s 3ms/step - loss: 0.2846 - accuracy: 0.8962 - val_loss: 0.3403 - val_accuracy: 0.8774\n",
      "Epoch 19/30\n",
      "1719/1719 [==============================] - 5s 3ms/step - loss: 0.2799 - accuracy: 0.8988 - val_loss: 0.3321 - val_accuracy: 0.8852\n",
      "Epoch 20/30\n",
      "1719/1719 [==============================] - 5s 3ms/step - loss: 0.2745 - accuracy: 0.9002 - val_loss: 0.3200 - val_accuracy: 0.8854\n",
      "Epoch 21/30\n",
      "1719/1719 [==============================] - 5s 3ms/step - loss: 0.2685 - accuracy: 0.9027 - val_loss: 0.3180 - val_accuracy: 0.8858\n",
      "Epoch 22/30\n",
      "1719/1719 [==============================] - 5s 3ms/step - loss: 0.2649 - accuracy: 0.9043 - val_loss: 0.3074 - val_accuracy: 0.8916\n",
      "Epoch 23/30\n",
      "1719/1719 [==============================] - 5s 3ms/step - loss: 0.2603 - accuracy: 0.9046 - val_loss: 0.3100 - val_accuracy: 0.8908\n",
      "Epoch 24/30\n",
      "1719/1719 [==============================] - 5s 3ms/step - loss: 0.2553 - accuracy: 0.9077 - val_loss: 0.3009 - val_accuracy: 0.8920\n",
      "Epoch 25/30\n",
      "1719/1719 [==============================] - 5s 3ms/step - loss: 0.2512 - accuracy: 0.9097 - val_loss: 0.3239 - val_accuracy: 0.8812\n",
      "Epoch 26/30\n",
      "1719/1719 [==============================] - 5s 3ms/step - loss: 0.2471 - accuracy: 0.9096 - val_loss: 0.2989 - val_accuracy: 0.8912\n",
      "Epoch 27/30\n",
      "1719/1719 [==============================] - 5s 3ms/step - loss: 0.2427 - accuracy: 0.9116 - val_loss: 0.3087 - val_accuracy: 0.8854\n",
      "Epoch 28/30\n",
      "1719/1719 [==============================] - 5s 3ms/step - loss: 0.2382 - accuracy: 0.9143 - val_loss: 0.3021 - val_accuracy: 0.8938\n",
      "Epoch 29/30\n",
      "1719/1719 [==============================] - 5s 3ms/step - loss: 0.2359 - accuracy: 0.9146 - val_loss: 0.3047 - val_accuracy: 0.8866\n",
      "Epoch 30/30\n",
      "1719/1719 [==============================] - 5s 3ms/step - loss: 0.2329 - accuracy: 0.9146 - val_loss: 0.2910 - val_accuracy: 0.8910\n"
     ]
    }
   ],
   "source": [
    "history = model.fit(x_train, y_train, \n",
    "                    epochs=30, validation_data=(x_valid, y_valid))"
   ]
  },
  {
   "cell_type": "markdown",
   "id": "d7832304",
   "metadata": {},
   "source": [
    "## Performance of the model"
   ]
  },
  {
   "cell_type": "code",
   "execution_count": 10,
   "id": "9467a0d8",
   "metadata": {},
   "outputs": [],
   "source": [
    "import pandas as pd\n",
    "import matplotlib.pyplot as plt"
   ]
  },
  {
   "cell_type": "code",
   "execution_count": 11,
   "id": "1236d2cf",
   "metadata": {},
   "outputs": [
    {
     "data": {
      "image/png": "[encoded data removed]",
      "text/plain": [
       "<Figure size 1200x800 with 1 Axes>"
      ]
     },
     "metadata": {},
     "output_type": "display_data"
    }
   ],
   "source": [
    "pd.DataFrame(history.history).plot(figsize=(12, 8))\n",
    "plt.grid(True)\n",
    "plt.gca().set_ylim(0, 1)\n",
    "plt.legend()\n",
    "plt.show()"
   ]
  },
  {
   "cell_type": "markdown",
   "id": "17a9f94e",
   "metadata": {},
   "source": [
    "## Accuracy Metrics"
   ]
  },
  {
   "cell_type": "code",
   "execution_count": 12,
   "id": "ca26ffc8",
   "metadata": {},
   "outputs": [
    {
     "name": "stdout",
     "output_type": "stream",
     "text": [
      "1/1 [==============================] - 0s 94ms/step\n",
      "[9 2 1]\n",
      "['Ankle boot' 'Pullover' 'Trouser']\n",
      "Accuracy Score of prediction:  1.0\n"
     ]
    }
   ],
   "source": [
    "import numpy as np\n",
    "from sklearn.metrics import accuracy_score, precision_score, recall_score, f1_score\n",
    "\n",
    "x_new, y_new = x_test[:3], y_test[:3]\n",
    "\n",
    "predict_x = model.predict(x_new) \n",
    "predict_new = np.argmax(predict_x, axis=1) # Imp for multi-class classification\n",
    "\n",
    "print(predict_new)\n",
    "print(np.array(classes)[predict_new])\n",
    "print(\"Accuracy Score of prediction: \", accuracy_score(predict_new, y_new))"
   ]
  },
  {
   "cell_type": "code",
   "execution_count": 14,
   "id": "040c28f1",
   "metadata": {},
   "outputs": [
    {
     "name": "stdout",
     "output_type": "stream",
     "text": [
      "313/313 [==============================] - 1s 2ms/step\n"
     ]
    }
   ],
   "source": [
    "y_predict = model.predict(x_test)\n",
    "y_predict = np.argmax(y_predict, axis=1)"
   ]
  },
  {
   "cell_type": "markdown",
   "id": "cca2841f",
   "metadata": {},
   "source": [
    "In the case of multi-class classification, we adopt averaging methods for F1 score calculation, resulting in a set of different **average scores (macro, weighted, micro)** in the classification report.\n",
    "Resource: https://towardsdatascience.com/micro-macro-weighted-averages-of-f1-score-clearly-explained-b603420b292f"
   ]
  },
  {
   "cell_type": "code",
   "execution_count": 16,
   "id": "bd51cf74",
   "metadata": {},
   "outputs": [
    {
     "name": "stdout",
     "output_type": "stream",
     "text": [
      "Confusion Matrix\n",
      "\n",
      "[[861   9  20  13  13   1  61   0  22   0]\n",
      " [  1 983   0   7   6   0   1   0   2   0]\n",
      " [ 16  11 660   8 255   0  45   0   5   0]\n",
      " [ 19  40  15 808  90   0  13   0  15   0]\n",
      " [  0   2  29  10 938   0  14   0   7   0]\n",
      " [  1   1   0   0   0 942   0  14   9  33]\n",
      " [131  10  77  22 200   0 536   0  24   0]\n",
      " [  0   0   0   0   0  25   0 829   7 139]\n",
      " [  3   0   0   3   6   2   0   3 983   0]\n",
      " [  1   0   0   0   0   5   0   7   0 987]]\n",
      "\n",
      "Accuracy: 0.85\n",
      "\n",
      "Micro Precision: 0.85\n",
      "Micro Recall: 0.85\n",
      "Micro F1-score: 0.85\n",
      "\n",
      "Macro Precision: 0.86\n",
      "Macro Recall: 0.85\n",
      "Macro F1-score: 0.85\n",
      "\n",
      "Weighted Precision: 0.86\n",
      "Weighted Recall: 0.85\n",
      "Weighted F1-score: 0.85\n",
      "\n",
      "Classification Report\n",
      "\n",
      "              precision    recall  f1-score   support\n",
      "\n",
      " T-shirt/top       0.83      0.86      0.85      1000\n",
      "     Trouser       0.93      0.98      0.96      1000\n",
      "    Pullover       0.82      0.66      0.73      1000\n",
      "       Dress       0.93      0.81      0.86      1000\n",
      "        Coat       0.62      0.94      0.75      1000\n",
      "      Sandal       0.97      0.94      0.95      1000\n",
      "       Shirt       0.80      0.54      0.64      1000\n",
      "     Sneaker       0.97      0.83      0.89      1000\n",
      "         Bag       0.92      0.98      0.95      1000\n",
      "  Ankle boot       0.85      0.99      0.91      1000\n",
      "\n",
      "    accuracy                           0.85     10000\n",
      "   macro avg       0.86      0.85      0.85     10000\n",
      "weighted avg       0.86      0.85      0.85     10000\n",
      "\n"
     ]
    }
   ],
   "source": [
    "from sklearn.metrics import confusion_matrix, classification_report\n",
    "\n",
    "confusion = confusion_matrix(y_test, y_predict)\n",
    "print('Confusion Matrix\\n')\n",
    "print(confusion)\n",
    "\n",
    "# accuracy: (tp + tn) / (p + n) \n",
    "# precision tp / (tp + fp) \n",
    "# recall: tp / (tp + fn) \n",
    "# f1: 2 tp / (2 tp + fp + fn)\n",
    "print('\\nAccuracy: {:.2f}\\n'.format(accuracy_score(y_test, y_predict)))\n",
    "\n",
    "print('Micro Precision: {:.2f}'.format(precision_score(y_test, y_predict, average='micro')))\n",
    "print('Micro Recall: {:.2f}'.format(recall_score(y_test, y_predict, average='micro')))\n",
    "print('Micro F1-score: {:.2f}\\n'.format(f1_score(y_test, y_predict, average='micro')))\n",
    "\n",
    "print('Macro Precision: {:.2f}'.format(precision_score(y_test, y_predict, average='macro')))\n",
    "print('Macro Recall: {:.2f}'.format(recall_score(y_test, y_predict, average='macro')))\n",
    "print('Macro F1-score: {:.2f}\\n'.format(f1_score(y_test, y_predict, average='macro')))\n",
    "\n",
    "print('Weighted Precision: {:.2f}'.format(precision_score(y_test, y_predict, average='weighted')))\n",
    "print('Weighted Recall: {:.2f}'.format(recall_score(y_test, y_predict, average='weighted')))\n",
    "print('Weighted F1-score: {:.2f}'.format(f1_score(y_test, y_predict, average='weighted')))\n",
    "\n",
    "print('\\nClassification Report\\n')\n",
    "print(classification_report(y_test, y_predict, target_names=classes))"
   ]
  },
  {
   "cell_type": "markdown",
   "id": "6305c945",
   "metadata": {},
   "source": [
    "## Conclusion"
   ]
  },
  {
   "cell_type": "markdown",
   "id": "0876f9d0",
   "metadata": {},
   "source": [
    "This is how we try to train a neural network using Python. Here I trained a neural network model for the task of classification on the fashion MNIST dataset."
   ]
  },
  {
   "cell_type": "code",
   "execution_count": null,
   "id": "19e6634a",
   "metadata": {},
   "outputs": [],
   "source": []
  }
 ],
 "metadata": {
  "kernelspec": {
   "display_name": "Python [conda env:CNN]",
   "language": "python",
   "name": "conda-env-CNN-py"
  },
  "language_info": {
   "codemirror_mode": {
    "name": "ipython",
    "version": 3
   },
   "file_extension": ".py",
   "mimetype": "text/x-python",
   "name": "python",
   "nbconvert_exporter": "python",
   "pygments_lexer": "ipython3",
   "version": "3.9.15"
  }
 },
 "nbformat": 4,
 "nbformat_minor": 5
}
